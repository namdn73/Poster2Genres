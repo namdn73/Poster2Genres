{
  "nbformat": 4,
  "nbformat_minor": 0,
  "metadata": {
    "colab": {
      "name": "save poster to numpy.ipynb",
      "provenance": [],
      "collapsed_sections": [],
      "machine_shape": "hm"
    },
    "kernelspec": {
      "name": "python3",
      "display_name": "Python 3"
    }
  },
  "cells": [
    {
      "cell_type": "code",
      "metadata": {
        "colab": {
          "base_uri": "https://localhost:8080/"
        },
        "id": "eRD8ANcxsw3W",
        "outputId": "e8a125d8-f7d1-4e86-c095-252f7e5ce6ca"
      },
      "source": [
        "from google.colab import drive\n",
        "drive.mount('/content/drive')"
      ],
      "execution_count": null,
      "outputs": [
        {
          "output_type": "stream",
          "name": "stdout",
          "text": [
            "Drive already mounted at /content/drive; to attempt to forcibly remount, call drive.mount(\"/content/drive\", force_remount=True).\n"
          ]
        }
      ]
    },
    {
      "cell_type": "markdown",
      "metadata": {
        "id": "SMzRSKaq-TPF"
      },
      "source": [
        "Note: Download MovieLens 20M poster from: https://www.kaggle.com/ghrzarea/movielens-20m-posters-for-machine-learning?select=MLP-20M"
      ]
    },
    {
      "cell_type": "code",
      "metadata": {
        "id": "xPokYCUqtEPG"
      },
      "source": [
        "!unrar x \"poster2genres/data/MLP-20M.rar\" \"poster2genres/data/MLP-20M\" "
      ],
      "execution_count": null,
      "outputs": []
    },
    {
      "cell_type": "code",
      "metadata": {
        "id": "lX_1CHA-t3cl"
      },
      "source": [
        "import numpy as np\n",
        "import pandas as pd\n",
        "import os "
      ],
      "execution_count": null,
      "outputs": []
    },
    {
      "cell_type": "markdown",
      "metadata": {
        "id": "jQAIND-G-fL7"
      },
      "source": [
        "Note: Download MovieLens 20M dataset: https://grouplens.org/datasets/movielens/20m/"
      ]
    },
    {
      "cell_type": "code",
      "metadata": {
        "id": "DURVYoPPDedX"
      },
      "source": [
        "genome = pd.read_csv(\"poster2genres/data/genome-scores.csv\")"
      ],
      "execution_count": null,
      "outputs": []
    },
    {
      "cell_type": "code",
      "metadata": {
        "id": "guoLKEP9KF2Y"
      },
      "source": [
        "genome_score = genome.relevance.values.reshape([10381,1128])"
      ],
      "execution_count": null,
      "outputs": []
    },
    {
      "cell_type": "markdown",
      "metadata": {
        "id": "9SQVSy93BDxv"
      },
      "source": [
        "Get common id between genome dataset and poster dataset"
      ]
    },
    {
      "cell_type": "code",
      "metadata": {
        "id": "bDgAMC_aDrBF"
      },
      "source": [
        "movie_id = genome.movieId.unique()"
      ],
      "execution_count": null,
      "outputs": []
    },
    {
      "cell_type": "code",
      "metadata": {
        "colab": {
          "base_uri": "https://localhost:8080/"
        },
        "id": "g6d3UJ5LDswz",
        "outputId": "e6f65822-5162-4b60-bf89-d5fd028d09dc"
      },
      "source": [
        "movie_id"
      ],
      "execution_count": null,
      "outputs": [
        {
          "output_type": "execute_result",
          "data": {
            "text/plain": [
              "array([     1,      2,      3, ..., 131013, 131168, 131170])"
            ]
          },
          "metadata": {},
          "execution_count": 7
        }
      ]
    },
    {
      "cell_type": "code",
      "metadata": {
        "colab": {
          "base_uri": "https://localhost:8080/"
        },
        "id": "XPfAfpvPIAjX",
        "outputId": "e7d30958-a1eb-450d-86f9-e65ad836c0ae"
      },
      "source": [
        "movie_id.shape"
      ],
      "execution_count": null,
      "outputs": [
        {
          "output_type": "execute_result",
          "data": {
            "text/plain": [
              "(10381,)"
            ]
          },
          "metadata": {},
          "execution_count": 8
        }
      ]
    },
    {
      "cell_type": "code",
      "metadata": {
        "colab": {
          "base_uri": "https://localhost:8080/"
        },
        "id": "8DlUqZKtEMYO",
        "outputId": "ee713a63-f809-4bc6-cbd0-f1b16b0fccbe"
      },
      "source": [
        "np.where(movie_id==112183)"
      ],
      "execution_count": null,
      "outputs": [
        {
          "output_type": "execute_result",
          "data": {
            "text/plain": [
              "(array([10129]),)"
            ]
          },
          "metadata": {},
          "execution_count": 9
        }
      ]
    },
    {
      "cell_type": "code",
      "metadata": {
        "id": "O63Kzvv6E1zH"
      },
      "source": [
        "movie_without_poster = pd.read_csv(\"poster2genres/data/NoPosterFound_Links.csv\")"
      ],
      "execution_count": null,
      "outputs": []
    },
    {
      "cell_type": "code",
      "metadata": {
        "id": "siGbM7PNG6Vs"
      },
      "source": [
        "movie_without_poster_id = movie_without_poster.movieId.unique()"
      ],
      "execution_count": null,
      "outputs": []
    },
    {
      "cell_type": "code",
      "metadata": {
        "colab": {
          "base_uri": "https://localhost:8080/"
        },
        "id": "NcDbYr_BwCHy",
        "outputId": "8bc6a0e0-2009-4ff7-f935-3ec3511bddf4"
      },
      "source": [
        "movie_without_poster_id.shape"
      ],
      "execution_count": null,
      "outputs": [
        {
          "output_type": "execute_result",
          "data": {
            "text/plain": [
              "(340,)"
            ]
          },
          "metadata": {},
          "execution_count": 12
        }
      ]
    },
    {
      "cell_type": "code",
      "metadata": {
        "id": "wftv8lhuHKiV"
      },
      "source": [
        "movie_poster_id = movie_id\n",
        "genome_poster_score = genome_score\n",
        "for id in movie_without_poster_id:\n",
        "  genome_poster_score = np.delete(genome_poster_score, np.where(movie_poster_id==id),0)\n",
        "  movie_poster_id = np.delete(movie_poster_id, np.where(movie_poster_id==id))"
      ],
      "execution_count": null,
      "outputs": []
    },
    {
      "cell_type": "code",
      "metadata": {
        "colab": {
          "base_uri": "https://localhost:8080/"
        },
        "id": "SZAppcdDHuxW",
        "outputId": "da9c6ee1-699a-4cf7-9c32-69cf1fccb9b9"
      },
      "source": [
        "movie_poster_id.shape"
      ],
      "execution_count": null,
      "outputs": [
        {
          "output_type": "execute_result",
          "data": {
            "text/plain": [
              "(10366,)"
            ]
          },
          "metadata": {},
          "execution_count": 14
        }
      ]
    },
    {
      "cell_type": "code",
      "metadata": {
        "id": "K3OLU_q2NXSd"
      },
      "source": [
        "import cv2\n",
        "from google.colab.patches import cv2_imshow"
      ],
      "execution_count": null,
      "outputs": []
    },
    {
      "cell_type": "code",
      "metadata": {
        "id": "3cTy46TBL1-V"
      },
      "source": [
        "def read_img(poster_id):\n",
        "  batch_size = poster_id.shape[0]\n",
        "  array_imgs = []\n",
        "  for id in poster_id:\n",
        "    img = np.array(cv2.imread(\"poster2genres/data/MLP-20M/\"+str(id)+\".jpg\"))\n",
        "    img = cv2.resize(img, (185,278), cv2.INTER_AREA)\n",
        "    array_imgs.append(img)\n",
        "  return np.array(array_imgs).astype(np.float32).reshape([batch_size,278,185,3])\n"
      ],
      "execution_count": null,
      "outputs": []
    },
    {
      "cell_type": "code",
      "metadata": {
        "id": "QEWtjsvwrYGv"
      },
      "source": [
        "poster_arr = read_img(movie_poster_id)\n",
        "np.save(\"poster2genres/data/movie_poster.npy\",poster_arr)"
      ],
      "execution_count": null,
      "outputs": []
    },
    {
      "cell_type": "code",
      "metadata": {
        "id": "5flyP5OIAeqX"
      },
      "source": [
        "np.save(\"poster2genres/data/genome_poster.npy\",genome_poster_score)"
      ],
      "execution_count": null,
      "outputs": []
    },
    {
      "cell_type": "code",
      "metadata": {
        "id": "H6sqxa0sNN9P"
      },
      "source": [
        ""
      ],
      "execution_count": null,
      "outputs": []
    }
  ]
}